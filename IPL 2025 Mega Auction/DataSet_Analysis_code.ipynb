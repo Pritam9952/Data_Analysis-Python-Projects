{
 "cells": [
  {
   "cell_type": "code",
   "execution_count": 2,
   "id": "cca42569-eff8-46c1-bfb6-886e4f7df055",
   "metadata": {},
   "outputs": [],
   "source": [
    "import pandas as pd\n",
    "import numpy as np\n",
    "import matplotlib.pyplot as plt\n",
    "import seaborn as sns\n",
    "import plotly.express as px"
   ]
  },
  {
   "cell_type": "code",
   "execution_count": 3,
   "id": "05b6dd73-3172-4cda-8c0b-8cee85fef017",
   "metadata": {},
   "outputs": [],
   "source": [
    "dataSet = pd.read_csv('ipl_2025_auction_players.csv')"
   ]
  },
  {
   "cell_type": "code",
   "execution_count": 4,
   "id": "dbab3336-547e-486e-a3eb-359a822deba7",
   "metadata": {},
   "outputs": [
    {
     "data": {
      "text/html": [
       "<div>\n",
       "<style scoped>\n",
       "    .dataframe tbody tr th:only-of-type {\n",
       "        vertical-align: middle;\n",
       "    }\n",
       "\n",
       "    .dataframe tbody tr th {\n",
       "        vertical-align: top;\n",
       "    }\n",
       "\n",
       "    .dataframe thead th {\n",
       "        text-align: right;\n",
       "    }\n",
       "</style>\n",
       "<table border=\"1\" class=\"dataframe\">\n",
       "  <thead>\n",
       "    <tr style=\"text-align: right;\">\n",
       "      <th></th>\n",
       "      <th>Players</th>\n",
       "      <th>Team</th>\n",
       "      <th>Type</th>\n",
       "      <th>Base</th>\n",
       "      <th>Sold</th>\n",
       "    </tr>\n",
       "  </thead>\n",
       "  <tbody>\n",
       "    <tr>\n",
       "      <th>0</th>\n",
       "      <td>Virat Kohli</td>\n",
       "      <td>RCB</td>\n",
       "      <td>BAT</td>\n",
       "      <td>-</td>\n",
       "      <td>21.00</td>\n",
       "    </tr>\n",
       "    <tr>\n",
       "      <th>1</th>\n",
       "      <td>Rajat Patidar</td>\n",
       "      <td>RCB</td>\n",
       "      <td>BAT</td>\n",
       "      <td>-</td>\n",
       "      <td>11.00</td>\n",
       "    </tr>\n",
       "    <tr>\n",
       "      <th>2</th>\n",
       "      <td>Yash Dayal</td>\n",
       "      <td>RCB</td>\n",
       "      <td>BOWL</td>\n",
       "      <td>-</td>\n",
       "      <td>5.00</td>\n",
       "    </tr>\n",
       "    <tr>\n",
       "      <th>3</th>\n",
       "      <td>Jasprit Bumrah</td>\n",
       "      <td>MI</td>\n",
       "      <td>BOWL</td>\n",
       "      <td>-</td>\n",
       "      <td>18.00</td>\n",
       "    </tr>\n",
       "    <tr>\n",
       "      <th>4</th>\n",
       "      <td>Suryakumar Yadav</td>\n",
       "      <td>MI</td>\n",
       "      <td>BAT</td>\n",
       "      <td>-</td>\n",
       "      <td>16.35</td>\n",
       "    </tr>\n",
       "  </tbody>\n",
       "</table>\n",
       "</div>"
      ],
      "text/plain": [
       "            Players Team  Type Base   Sold\n",
       "0       Virat Kohli  RCB   BAT    -  21.00\n",
       "1     Rajat Patidar  RCB   BAT    -  11.00\n",
       "2        Yash Dayal  RCB  BOWL    -   5.00\n",
       "3    Jasprit Bumrah   MI  BOWL    -  18.00\n",
       "4  Suryakumar Yadav   MI   BAT    -  16.35"
      ]
     },
     "execution_count": 4,
     "metadata": {},
     "output_type": "execute_result"
    }
   ],
   "source": [
    "dataSet.head()"
   ]
  },
  {
   "cell_type": "code",
   "execution_count": 6,
   "id": "f3eff43b-e77c-44e1-be2d-08c85873aa3a",
   "metadata": {},
   "outputs": [
    {
     "name": "stdout",
     "output_type": "stream",
     "text": [
      "<class 'pandas.core.frame.DataFrame'>\n",
      "RangeIndex: 623 entries, 0 to 622\n",
      "Data columns (total 5 columns):\n",
      " #   Column   Non-Null Count  Dtype \n",
      "---  ------   --------------  ----- \n",
      " 0   Players  623 non-null    object\n",
      " 1   Team     623 non-null    object\n",
      " 2   Type     623 non-null    object\n",
      " 3   Base     623 non-null    object\n",
      " 4   Sold     623 non-null    object\n",
      "dtypes: object(5)\n",
      "memory usage: 24.5+ KB\n"
     ]
    }
   ],
   "source": [
    "dataSet.info()"
   ]
  },
  {
   "cell_type": "code",
   "execution_count": 7,
   "id": "30f41990-4c64-4df1-ae39-af8415867874",
   "metadata": {},
   "outputs": [
    {
     "data": {
      "text/plain": [
       "(623, 5)"
      ]
     },
     "execution_count": 7,
     "metadata": {},
     "output_type": "execute_result"
    }
   ],
   "source": [
    "dataSet.shape"
   ]
  },
  {
   "cell_type": "code",
   "execution_count": 8,
   "id": "4301b242-2403-4673-bb25-8e9691dd6ebf",
   "metadata": {},
   "outputs": [
    {
     "data": {
      "text/plain": [
       "Index(['Players', 'Team', 'Type', 'Base', 'Sold'], dtype='object')"
      ]
     },
     "execution_count": 8,
     "metadata": {},
     "output_type": "execute_result"
    }
   ],
   "source": [
    "dataSet.columns"
   ]
  },
  {
   "cell_type": "code",
   "execution_count": 9,
   "id": "60ce2b29-7407-4482-a3fd-ead8e65384c8",
   "metadata": {},
   "outputs": [
    {
     "data": {
      "text/plain": [
       "Players    0\n",
       "Team       0\n",
       "Type       0\n",
       "Base       0\n",
       "Sold       0\n",
       "dtype: int64"
      ]
     },
     "execution_count": 9,
     "metadata": {},
     "output_type": "execute_result"
    }
   ],
   "source": [
    "dataSet.isnull().sum()"
   ]
  },
  {
   "cell_type": "code",
   "execution_count": 10,
   "id": "9192dbce-53cd-4eba-9b72-29aba98e3207",
   "metadata": {},
   "outputs": [
    {
     "data": {
      "text/html": [
       "<div>\n",
       "<style scoped>\n",
       "    .dataframe tbody tr th:only-of-type {\n",
       "        vertical-align: middle;\n",
       "    }\n",
       "\n",
       "    .dataframe tbody tr th {\n",
       "        vertical-align: top;\n",
       "    }\n",
       "\n",
       "    .dataframe thead th {\n",
       "        text-align: right;\n",
       "    }\n",
       "</style>\n",
       "<table border=\"1\" class=\"dataframe\">\n",
       "  <thead>\n",
       "    <tr style=\"text-align: right;\">\n",
       "      <th></th>\n",
       "      <th>Players</th>\n",
       "      <th>Team</th>\n",
       "      <th>Type</th>\n",
       "      <th>Base</th>\n",
       "      <th>Sold</th>\n",
       "    </tr>\n",
       "  </thead>\n",
       "  <tbody>\n",
       "    <tr>\n",
       "      <th>count</th>\n",
       "      <td>623</td>\n",
       "      <td>623</td>\n",
       "      <td>623</td>\n",
       "      <td>623</td>\n",
       "      <td>623</td>\n",
       "    </tr>\n",
       "    <tr>\n",
       "      <th>unique</th>\n",
       "      <td>620</td>\n",
       "      <td>11</td>\n",
       "      <td>4</td>\n",
       "      <td>9</td>\n",
       "      <td>72</td>\n",
       "    </tr>\n",
       "    <tr>\n",
       "      <th>top</th>\n",
       "      <td>Daryl Mitchell</td>\n",
       "      <td>-</td>\n",
       "      <td>BOWL</td>\n",
       "      <td>0.30</td>\n",
       "      <td>TBA</td>\n",
       "    </tr>\n",
       "    <tr>\n",
       "      <th>freq</th>\n",
       "      <td>2</td>\n",
       "      <td>395</td>\n",
       "      <td>216</td>\n",
       "      <td>322</td>\n",
       "      <td>293</td>\n",
       "    </tr>\n",
       "  </tbody>\n",
       "</table>\n",
       "</div>"
      ],
      "text/plain": [
       "               Players Team  Type  Base Sold\n",
       "count              623  623   623   623  623\n",
       "unique             620   11     4     9   72\n",
       "top     Daryl Mitchell    -  BOWL  0.30  TBA\n",
       "freq                 2  395   216   322  293"
      ]
     },
     "execution_count": 10,
     "metadata": {},
     "output_type": "execute_result"
    }
   ],
   "source": [
    "dataSet.describe()"
   ]
  },
  {
   "cell_type": "code",
   "execution_count": 11,
   "id": "6b524f7b-08fe-4f78-a2cb-5eddaed355bf",
   "metadata": {},
   "outputs": [
    {
     "data": {
      "text/plain": [
       "array(['21.00', '11.00', '5.00', '18.00', '16.35', '16.30', '8.00',\n",
       "       '23.00', '14.00', '6.00', '13.00', '12.00', '4.00', '16.50',\n",
       "       '13.25', '10.00', '8.50', '5.50', '15.75', '26.75', '27.00',\n",
       "       '10.75', '11.75', '8.75', '7.50', '12.25', '6.25', '9.00', '2.00',\n",
       "       '3.40', 'Unsold', '9.75', '23.75', '4.20', '3.60', '11.25',\n",
       "       '11.50', '4.80', '12.50', '9.50', '6.50', '3.20', '5.25', '4.40',\n",
       "       '2.40', '0.50', '3.00', '0.30', '1.50', '1.70', '0.95', '1.20',\n",
       "       '3.80', '0.65', '1.80', '2.20', '1.60', '2.60', '7.00', '5.75',\n",
       "       '0.75', '1.00', '9.25', 'TBA', '0.80', '1.30', '0.40', '0.55',\n",
       "       '2.80', '0.35', '1.25', '1.10'], dtype=object)"
      ]
     },
     "execution_count": 11,
     "metadata": {},
     "output_type": "execute_result"
    }
   ],
   "source": [
    "dataSet['Sold'].unique()"
   ]
  },
  {
   "cell_type": "code",
   "execution_count": 13,
   "id": "955fc60e-e439-480f-8369-02bde8db7259",
   "metadata": {},
   "outputs": [],
   "source": [
    "dataSet['Sold'] = dataSet['Sold'].replace(['Unsold', 'TBA'], '0')\n",
    "dataSet['Sold'] = pd.to_numeric(dataSet['Sold'], errors='coerce')"
   ]
  },
  {
   "cell_type": "code",
   "execution_count": 14,
   "id": "4db22687-c539-46d0-a325-85d4af9387bf",
   "metadata": {},
   "outputs": [
    {
     "data": {
      "text/plain": [
       "Players     object\n",
       "Team        object\n",
       "Type        object\n",
       "Base        object\n",
       "Sold       float64\n",
       "dtype: object"
      ]
     },
     "execution_count": 14,
     "metadata": {},
     "output_type": "execute_result"
    }
   ],
   "source": [
    "dataSet.dtypes"
   ]
  },
  {
   "cell_type": "code",
   "execution_count": 15,
   "id": "6b1e95c4-8d39-45ab-9924-b65df9ddf374",
   "metadata": {},
   "outputs": [
    {
     "data": {
      "text/plain": [
       "array(['-', '2.00', '1.50', '0.75', '1.00', '0.30', '0.50', '0.40',\n",
       "       '1.25'], dtype=object)"
      ]
     },
     "execution_count": 15,
     "metadata": {},
     "output_type": "execute_result"
    }
   ],
   "source": [
    "dataSet[\"Base\"].unique()"
   ]
  },
  {
   "cell_type": "code",
   "execution_count": 16,
   "id": "de808e0f-1847-44e3-a5aa-cc0f578ed71e",
   "metadata": {},
   "outputs": [],
   "source": [
    "dataSet['Base'] = dataSet['Base'].replace('-','0')\n",
    "dataSet['Base'] = pd.to_numeric(dataSet['Base'], errors= 'coerce')"
   ]
  },
  {
   "cell_type": "code",
   "execution_count": 17,
   "id": "b487f5e4-bed0-439f-a59c-6fc58b97329a",
   "metadata": {},
   "outputs": [
    {
     "data": {
      "text/plain": [
       "Players     object\n",
       "Team        object\n",
       "Type        object\n",
       "Base       float64\n",
       "Sold       float64\n",
       "dtype: object"
      ]
     },
     "execution_count": 17,
     "metadata": {},
     "output_type": "execute_result"
    }
   ],
   "source": [
    "dataSet.dtypes"
   ]
  },
  {
   "cell_type": "code",
   "execution_count": 18,
   "id": "e1605d63-6556-4849-89ec-ca8a5701b664",
   "metadata": {},
   "outputs": [
    {
     "data": {
      "text/plain": [
       "array(['RCB', 'MI', 'SRH', 'CSK', 'DC', 'KKR', 'RR', 'GT', 'LSG', 'PBKS',\n",
       "       '-'], dtype=object)"
      ]
     },
     "execution_count": 18,
     "metadata": {},
     "output_type": "execute_result"
    }
   ],
   "source": [
    "dataSet['Team'].unique()"
   ]
  },
  {
   "cell_type": "markdown",
   "id": "39986745-8db2-49d4-84d1-eef914547a0a",
   "metadata": {},
   "source": [
    "# Number Of Playes Each Team Purchased"
   ]
  },
  {
   "cell_type": "code",
   "execution_count": 20,
   "id": "a0c72555-303a-4b61-bdc1-715147765db1",
   "metadata": {},
   "outputs": [
    {
     "data": {
      "text/plain": [
       "Team\n",
       "-       395\n",
       "CSK      25\n",
       "GT       25\n",
       "PBKS     25\n",
       "LSG      24\n",
       "MI       23\n",
       "DC       23\n",
       "RCB      22\n",
       "KKR      21\n",
       "SRH      20\n",
       "RR       20\n",
       "Name: count, dtype: int64"
      ]
     },
     "execution_count": 20,
     "metadata": {},
     "output_type": "execute_result"
    }
   ],
   "source": [
    "dataSet['Team'].value_counts()"
   ]
  },
  {
   "cell_type": "code",
   "execution_count": 21,
   "id": "d499781a-e009-4013-847f-71a1d9965828",
   "metadata": {},
   "outputs": [
    {
     "data": {
      "text/html": [
       "<div>\n",
       "<style scoped>\n",
       "    .dataframe tbody tr th:only-of-type {\n",
       "        vertical-align: middle;\n",
       "    }\n",
       "\n",
       "    .dataframe tbody tr th {\n",
       "        vertical-align: top;\n",
       "    }\n",
       "\n",
       "    .dataframe thead th {\n",
       "        text-align: right;\n",
       "    }\n",
       "</style>\n",
       "<table border=\"1\" class=\"dataframe\">\n",
       "  <thead>\n",
       "    <tr style=\"text-align: right;\">\n",
       "      <th></th>\n",
       "      <th>Base</th>\n",
       "      <th>Sold</th>\n",
       "    </tr>\n",
       "  </thead>\n",
       "  <tbody>\n",
       "    <tr>\n",
       "      <th>count</th>\n",
       "      <td>623.000000</td>\n",
       "      <td>623.000000</td>\n",
       "    </tr>\n",
       "    <tr>\n",
       "      <th>mean</th>\n",
       "      <td>0.679133</td>\n",
       "      <td>1.897432</td>\n",
       "    </tr>\n",
       "    <tr>\n",
       "      <th>std</th>\n",
       "      <td>0.620929</td>\n",
       "      <td>4.415365</td>\n",
       "    </tr>\n",
       "    <tr>\n",
       "      <th>min</th>\n",
       "      <td>0.000000</td>\n",
       "      <td>0.000000</td>\n",
       "    </tr>\n",
       "    <tr>\n",
       "      <th>25%</th>\n",
       "      <td>0.300000</td>\n",
       "      <td>0.000000</td>\n",
       "    </tr>\n",
       "    <tr>\n",
       "      <th>50%</th>\n",
       "      <td>0.300000</td>\n",
       "      <td>0.000000</td>\n",
       "    </tr>\n",
       "    <tr>\n",
       "      <th>75%</th>\n",
       "      <td>0.750000</td>\n",
       "      <td>0.800000</td>\n",
       "    </tr>\n",
       "    <tr>\n",
       "      <th>max</th>\n",
       "      <td>2.000000</td>\n",
       "      <td>27.000000</td>\n",
       "    </tr>\n",
       "  </tbody>\n",
       "</table>\n",
       "</div>"
      ],
      "text/plain": [
       "             Base        Sold\n",
       "count  623.000000  623.000000\n",
       "mean     0.679133    1.897432\n",
       "std      0.620929    4.415365\n",
       "min      0.000000    0.000000\n",
       "25%      0.300000    0.000000\n",
       "50%      0.300000    0.000000\n",
       "75%      0.750000    0.800000\n",
       "max      2.000000   27.000000"
      ]
     },
     "execution_count": 21,
     "metadata": {},
     "output_type": "execute_result"
    }
   ],
   "source": [
    "dataSet[['Base','Sold']].describe()"
   ]
  },
  {
   "cell_type": "markdown",
   "id": "62bd7f09-7cdb-49ee-ac9c-bab3253f2190",
   "metadata": {},
   "source": [
    "# Distribution Of Sold Price"
   ]
  },
  {
   "cell_type": "code",
   "execution_count": 3,
   "id": "9373fb93-1e3a-4ed4-8df6-0545d9f10076",
   "metadata": {},
   "outputs": [
    {
     "ename": "NameError",
     "evalue": "name 'dataSet' is not defined",
     "output_type": "error",
     "traceback": [
      "\u001b[1;31m---------------------------------------------------------------------------\u001b[0m",
      "\u001b[1;31mNameError\u001b[0m                                 Traceback (most recent call last)",
      "Cell \u001b[1;32mIn[3], line 1\u001b[0m\n\u001b[1;32m----> 1\u001b[0m sold_prices \u001b[38;5;241m=\u001b[39m \u001b[43mdataSet\u001b[49m[\u001b[38;5;124m'\u001b[39m\u001b[38;5;124mSold\u001b[39m\u001b[38;5;124m'\u001b[39m]\u001b[38;5;241m.\u001b[39mdropna()\n\u001b[0;32m      3\u001b[0m fig1 \u001b[38;5;241m=\u001b[39m px\u001b[38;5;241m.\u001b[39mhistogram(\n\u001b[0;32m      4\u001b[0m     sold_prices,\n\u001b[0;32m      5\u001b[0m     x\u001b[38;5;241m=\u001b[39m\u001b[38;5;124m'\u001b[39m\u001b[38;5;124mSold\u001b[39m\u001b[38;5;124m'\u001b[39m,\n\u001b[1;32m   (...)\u001b[0m\n\u001b[0;32m     11\u001b[0m     hover_data\u001b[38;5;241m=\u001b[39m{\u001b[38;5;124m'\u001b[39m\u001b[38;5;124mSold\u001b[39m\u001b[38;5;124m'\u001b[39m: \u001b[38;5;124m'\u001b[39m\u001b[38;5;124m:.2f\u001b[39m\u001b[38;5;124m'\u001b[39m}\n\u001b[0;32m     12\u001b[0m )\n\u001b[0;32m     14\u001b[0m fig1\u001b[38;5;241m.\u001b[39mupdate_traces(\n\u001b[0;32m     15\u001b[0m     marker\u001b[38;5;241m=\u001b[39m\u001b[38;5;28mdict\u001b[39m(line\u001b[38;5;241m=\u001b[39m\u001b[38;5;28mdict\u001b[39m(width\u001b[38;5;241m=\u001b[39m\u001b[38;5;241m1\u001b[39m, color\u001b[38;5;241m=\u001b[39m\u001b[38;5;124m'\u001b[39m\u001b[38;5;124mblack\u001b[39m\u001b[38;5;124m'\u001b[39m)),\n\u001b[0;32m     16\u001b[0m     selector\u001b[38;5;241m=\u001b[39m\u001b[38;5;28mdict\u001b[39m(\u001b[38;5;28mtype\u001b[39m\u001b[38;5;241m=\u001b[39m\u001b[38;5;124m'\u001b[39m\u001b[38;5;124mhistogram\u001b[39m\u001b[38;5;124m'\u001b[39m) \n\u001b[0;32m     17\u001b[0m )\n",
      "\u001b[1;31mNameError\u001b[0m: name 'dataSet' is not defined"
     ]
    }
   ],
   "source": [
    "sold_prices = dataSet['Sold'].dropna()\n",
    "\n",
    "fig1 = px.histogram(\n",
    "    sold_prices,\n",
    "    x='Sold',\n",
    "    nbins=30,\n",
    "    histnorm='probability density',\n",
    "    title='<b>Distribution of Sold Prices</b><br><sup>Understanding the spread of property sales</sup>', # Bold title, added subtitle\n",
    "    labels={'Sold': 'Sold Price (in Crores)'},\n",
    "    color_discrete_sequence=px.colors.qualitative.Plotly, \n",
    "    hover_data={'Sold': ':.2f'}\n",
    ")\n",
    "\n",
    "fig1.update_traces(\n",
    "    marker=dict(line=dict(width=1, color='black')),\n",
    "    selector=dict(type='histogram') \n",
    ")\n",
    "\n",
    "fig1.update_layout(\n",
    "    xaxis_title='<b>Sold Price (in Crores)</b>', \n",
    "    yaxis_title='<b>Frequency (Probability Density)</b>',\n",
    "    bargap=0.1, # Slightly reduced gap for a more continuous look\n",
    "    plot_bgcolor='white', # White plot background\n",
    "    paper_bgcolor='white', # White paper background\n",
    "    font=dict(family=\"Arial, sans-serif\", size=12, color=\"RebeccaPurple\"), \n",
    "    title_x=0.5,\n",
    "    margin=dict(l=40, r=40, t=80, b=40), # Adjust margins\n",
    "    hovermode=\"x unified\" # Unified hover for cleaner interaction\n",
    ")\n",
    "\n",
    "fig1.show(renderer='iframe_connected')"
   ]
  },
  {
   "cell_type": "markdown",
   "id": "df46b35a-5f73-4891-aba1-ce5bfb93835a",
   "metadata": {},
   "source": [
    "# Top 10 Most Expensive Players"
   ]
  },
  {
   "cell_type": "code",
   "execution_count": 37,
   "id": "a5ec8653-d42e-4cd2-801c-9f6419c34df0",
   "metadata": {},
   "outputs": [
    {
     "data": {
      "text/html": [
       "<iframe\n",
       "    scrolling=\"no\"\n",
       "    width=\"100%\"\n",
       "    height=\"545px\"\n",
       "    src=\"iframe_figures/figure_37.html\"\n",
       "    frameborder=\"0\"\n",
       "    allowfullscreen\n",
       "></iframe>\n"
      ]
     },
     "metadata": {},
     "output_type": "display_data"
    }
   ],
   "source": [
    "top_expensive_buys = dataSet.sort_values(by='Sold',ascending=False).head(10)\n",
    "\n",
    "fig2 = px.bar(\n",
    "    top_expensive_buys,\n",
    "    x ='Sold',\n",
    "    y = 'Players',\n",
    "    title = 'Top 10 Most Expensive Buys Of Auction',\n",
    "    labels={'Sold': 'Sold Price (in Crores)', 'Players': 'Players'},\n",
    "    color = 'Sold', color_continuous_scale = 'rainbow',\n",
    "    hover_data = {'Sold' :':.2f'}\n",
    ")\n",
    "\n",
    "fig2.update_traces(\n",
    "    marker = dict(line=dict(width = 1, color = 'black')),\n",
    "    selector= dict(type = 'bar')\n",
    ")\n",
    "fig2.update_layout(\n",
    "    xaxis_title = '<b>Sold Price (in Crores)</b>',\n",
    "    yaxis_title = '<b>Players</b>',\n",
    "    bargap =0.1,\n",
    "    plot_bgcolor = 'white',\n",
    "    paper_bgcolor = 'white',\n",
    "    font = dict(family=\"Arial, sans-serif\", size=12, color=\"RebeccaPurple\"),\n",
    "    title_x = 0.5,\n",
    "    margin = dict(l=40, r=40, t=80, b=40),\n",
    "    hovermode = 'y unified'\n",
    ")\n",
    "\n",
    "fig2.show(renderer = 'iframe_connected')"
   ]
  },
  {
   "cell_type": "markdown",
   "id": "7c676ef5-a5de-47fb-b389-92800b4474c4",
   "metadata": {},
   "source": [
    "# Top 10 Least Expensive Players"
   ]
  },
  {
   "cell_type": "code",
   "execution_count": 97,
   "id": "3c9d23c7-92e5-433e-bbee-65220d46aefd",
   "metadata": {},
   "outputs": [
    {
     "data": {
      "text/html": [
       "<div>\n",
       "<style scoped>\n",
       "    .dataframe tbody tr th:only-of-type {\n",
       "        vertical-align: middle;\n",
       "    }\n",
       "\n",
       "    .dataframe tbody tr th {\n",
       "        vertical-align: top;\n",
       "    }\n",
       "\n",
       "    .dataframe thead th {\n",
       "        text-align: right;\n",
       "    }\n",
       "</style>\n",
       "<table border=\"1\" class=\"dataframe\">\n",
       "  <thead>\n",
       "    <tr style=\"text-align: right;\">\n",
       "      <th></th>\n",
       "      <th>Players</th>\n",
       "      <th>Team</th>\n",
       "      <th>Type</th>\n",
       "      <th>Base</th>\n",
       "      <th>Sold</th>\n",
       "      <th>Sold_Status</th>\n",
       "    </tr>\n",
       "  </thead>\n",
       "  <tbody>\n",
       "    <tr>\n",
       "      <th>107</th>\n",
       "      <td>Aryan Juyal</td>\n",
       "      <td>LSG</td>\n",
       "      <td>BAT</td>\n",
       "      <td>0.3</td>\n",
       "      <td>0.3</td>\n",
       "      <td>Sold</td>\n",
       "    </tr>\n",
       "    <tr>\n",
       "      <th>105</th>\n",
       "      <td>Nishant Sindhu</td>\n",
       "      <td>GT</td>\n",
       "      <td>AR</td>\n",
       "      <td>0.3</td>\n",
       "      <td>0.3</td>\n",
       "      <td>Sold</td>\n",
       "    </tr>\n",
       "    <tr>\n",
       "      <th>111</th>\n",
       "      <td>Luvnith Sisodia</td>\n",
       "      <td>KKR</td>\n",
       "      <td>BAT</td>\n",
       "      <td>0.3</td>\n",
       "      <td>0.3</td>\n",
       "      <td>Sold</td>\n",
       "    </tr>\n",
       "    <tr>\n",
       "      <th>110</th>\n",
       "      <td>Anuj Rawat</td>\n",
       "      <td>GT</td>\n",
       "      <td>BAT</td>\n",
       "      <td>0.3</td>\n",
       "      <td>0.3</td>\n",
       "      <td>Sold</td>\n",
       "    </tr>\n",
       "    <tr>\n",
       "      <th>128</th>\n",
       "      <td>Manav Suthar</td>\n",
       "      <td>GT</td>\n",
       "      <td>BOWL</td>\n",
       "      <td>0.3</td>\n",
       "      <td>0.3</td>\n",
       "      <td>Sold</td>\n",
       "    </tr>\n",
       "    <tr>\n",
       "      <th>127</th>\n",
       "      <td>Kumar Kartikeya</td>\n",
       "      <td>RR</td>\n",
       "      <td>BOWL</td>\n",
       "      <td>0.3</td>\n",
       "      <td>0.3</td>\n",
       "      <td>Sold</td>\n",
       "    </tr>\n",
       "    <tr>\n",
       "      <th>123</th>\n",
       "      <td>Shreyas Gopal</td>\n",
       "      <td>CSK</td>\n",
       "      <td>BOWL</td>\n",
       "      <td>0.3</td>\n",
       "      <td>0.3</td>\n",
       "      <td>Sold</td>\n",
       "    </tr>\n",
       "    <tr>\n",
       "      <th>124</th>\n",
       "      <td>Mayank Markande</td>\n",
       "      <td>KKR</td>\n",
       "      <td>BOWL</td>\n",
       "      <td>0.3</td>\n",
       "      <td>0.3</td>\n",
       "      <td>Sold</td>\n",
       "    </tr>\n",
       "    <tr>\n",
       "      <th>96</th>\n",
       "      <td>Atharva Taide</td>\n",
       "      <td>SRH</td>\n",
       "      <td>BAT</td>\n",
       "      <td>0.3</td>\n",
       "      <td>0.3</td>\n",
       "      <td>Sold</td>\n",
       "    </tr>\n",
       "    <tr>\n",
       "      <th>470</th>\n",
       "      <td>Ramakrishna Ghosh</td>\n",
       "      <td>CSK</td>\n",
       "      <td>AR</td>\n",
       "      <td>0.3</td>\n",
       "      <td>0.3</td>\n",
       "      <td>Sold</td>\n",
       "    </tr>\n",
       "  </tbody>\n",
       "</table>\n",
       "</div>"
      ],
      "text/plain": [
       "               Players Team  Type  Base  Sold Sold_Status\n",
       "107        Aryan Juyal  LSG   BAT   0.3   0.3        Sold\n",
       "105     Nishant Sindhu   GT    AR   0.3   0.3        Sold\n",
       "111    Luvnith Sisodia  KKR   BAT   0.3   0.3        Sold\n",
       "110         Anuj Rawat   GT   BAT   0.3   0.3        Sold\n",
       "128       Manav Suthar   GT  BOWL   0.3   0.3        Sold\n",
       "127    Kumar Kartikeya   RR  BOWL   0.3   0.3        Sold\n",
       "123      Shreyas Gopal  CSK  BOWL   0.3   0.3        Sold\n",
       "124    Mayank Markande  KKR  BOWL   0.3   0.3        Sold\n",
       "96       Atharva Taide  SRH   BAT   0.3   0.3        Sold\n",
       "470  Ramakrishna Ghosh  CSK    AR   0.3   0.3        Sold"
      ]
     },
     "execution_count": 97,
     "metadata": {},
     "output_type": "execute_result"
    }
   ],
   "source": [
    "least_expensive_buys = dataSet[dataSet['Sold']>0].sort_values(by = 'Sold' ,ascending=True).head(10)\n",
    "least_expensive_buys"
   ]
  },
  {
   "cell_type": "markdown",
   "id": "ccd07327-cdd5-4427-8769-721a0ef21868",
   "metadata": {},
   "source": [
    "# Base Price V/S Sold Price"
   ]
  },
  {
   "cell_type": "code",
   "execution_count": 44,
   "id": "7d07f1e1-4517-4681-909e-05d9056f7372",
   "metadata": {},
   "outputs": [
    {
     "data": {
      "text/html": [
       "<iframe\n",
       "    scrolling=\"no\"\n",
       "    width=\"100%\"\n",
       "    height=\"545px\"\n",
       "    src=\"iframe_figures/figure_44.html\"\n",
       "    frameborder=\"0\"\n",
       "    allowfullscreen\n",
       "></iframe>\n"
      ]
     },
     "metadata": {},
     "output_type": "display_data"
    }
   ],
   "source": [
    "fig3 = px.box (\n",
    "    dataSet,\n",
    "    x = 'Base',\n",
    "    y = 'Sold',\n",
    "    title = 'Base Price V/S Sold Price',\n",
    "    labels= {'Base' : 'Base Price (in Crores)',\n",
    "             'Sold' : 'Sold Price (in Crores)'},\n",
    "    color= 'Base',\n",
    "    hover_data= {'Sold' :':.2f'}\n",
    ")\n",
    "\n",
    "fig3.update_traces(\n",
    "    marker = dict(line =dict(color = 'black', width = 1)),\n",
    "    selector = dict(type ='box')\n",
    ")\n",
    "fig3.update_layout(\n",
    "    xaxis_title='<b>Base Price (in Crores)</b>', \n",
    "    yaxis_title='<b>Sold Price (in Crores)</b>',\n",
    "    bargap = 0.2,\n",
    "    paper_bgcolor = 'white',\n",
    "    # plot_bgcolor = 'lightblue',\n",
    "    font=dict(family=\"Arial, sans-serif\", size=12, color=\"RebeccaPurple\"), \n",
    "    title_x=0.5, \n",
    "    margin=dict(l=40, r=40, t=80, b=40),\n",
    "    hovermode = 'x unified'\n",
    ")\n",
    "fig3.show(renderer='iframe_connected')"
   ]
  },
  {
   "cell_type": "markdown",
   "id": "01a2efd2-e20e-44f4-a5e8-06a370bd9077",
   "metadata": {},
   "source": [
    "# Unsold Players"
   ]
  },
  {
   "cell_type": "code",
   "execution_count": 45,
   "id": "9c4ad6aa-cce2-4ad5-85ea-133e57e867dc",
   "metadata": {},
   "outputs": [
    {
     "name": "stdout",
     "output_type": "stream",
     "text": [
      "Count Of Unsold Players : 396\n"
     ]
    }
   ],
   "source": [
    "unsold_palyer = dataSet[dataSet['Sold'] == 0]\n",
    "print(f'Count Of Unsold Players : {len(unsold_palyer)}')"
   ]
  },
  {
   "cell_type": "code",
   "execution_count": 46,
   "id": "92cf6e15-efc3-4f0b-b85e-54abab857ded",
   "metadata": {},
   "outputs": [
    {
     "data": {
      "text/plain": [
       "Type\n",
       "AR      138\n",
       "BOWL    134\n",
       "BAT     123\n",
       "WK        1\n",
       "Name: count, dtype: int64"
      ]
     },
     "execution_count": 46,
     "metadata": {},
     "output_type": "execute_result"
    }
   ],
   "source": [
    "unsold_count_type = unsold_palyer['Type'].value_counts()\n",
    "unsold_count_type"
   ]
  },
  {
   "cell_type": "code",
   "execution_count": 1,
   "id": "de207008-4f86-4695-adc4-3f02c18b5a20",
   "metadata": {},
   "outputs": [
    {
     "ename": "NameError",
     "evalue": "name 'px' is not defined",
     "output_type": "error",
     "traceback": [
      "\u001b[1;31m---------------------------------------------------------------------------\u001b[0m",
      "\u001b[1;31mNameError\u001b[0m                                 Traceback (most recent call last)",
      "Cell \u001b[1;32mIn[1], line 1\u001b[0m\n\u001b[1;32m----> 1\u001b[0m fig4 \u001b[38;5;241m=\u001b[39m \u001b[43mpx\u001b[49m\u001b[38;5;241m.\u001b[39mbar(\n\u001b[0;32m      2\u001b[0m     x\u001b[38;5;241m=\u001b[39munsold_count_type\u001b[38;5;241m.\u001b[39mindex,\n\u001b[0;32m      3\u001b[0m     y\u001b[38;5;241m=\u001b[39munsold_count_type\u001b[38;5;241m.\u001b[39mvalues,\n\u001b[0;32m      4\u001b[0m     labels\u001b[38;5;241m=\u001b[39m{\n\u001b[0;32m      5\u001b[0m         \u001b[38;5;124m'\u001b[39m\u001b[38;5;124mx\u001b[39m\u001b[38;5;124m'\u001b[39m: \u001b[38;5;124m'\u001b[39m\u001b[38;5;124mType\u001b[39m\u001b[38;5;124m'\u001b[39m, \n\u001b[0;32m      6\u001b[0m         \u001b[38;5;124m'\u001b[39m\u001b[38;5;124my\u001b[39m\u001b[38;5;124m'\u001b[39m: \u001b[38;5;124m'\u001b[39m\u001b[38;5;124mNumber of Unsold Players\u001b[39m\u001b[38;5;124m'\u001b[39m,\n\u001b[0;32m      7\u001b[0m     },\n\u001b[0;32m      8\u001b[0m     color\u001b[38;5;241m=\u001b[39munsold_count_type\u001b[38;5;241m.\u001b[39mindex, \n\u001b[0;32m      9\u001b[0m     color_discrete_sequence\u001b[38;5;241m=\u001b[39mpx\u001b[38;5;241m.\u001b[39mcolors\u001b[38;5;241m.\u001b[39mqualitative\u001b[38;5;241m.\u001b[39mDark24, \n\u001b[0;32m     10\u001b[0m     title\u001b[38;5;241m=\u001b[39m\u001b[38;5;124m'\u001b[39m\u001b[38;5;124m<b>Unsold Players by Type</b><br><sup>Distribution of players who did not find a team</sup>\u001b[39m\u001b[38;5;124m'\u001b[39m, \u001b[38;5;66;03m# Enhanced title with subtitle\u001b[39;00m\n\u001b[0;32m     11\u001b[0m )\n\u001b[0;32m     13\u001b[0m fig4\u001b[38;5;241m.\u001b[39mupdate_traces(\n\u001b[0;32m     14\u001b[0m     marker\u001b[38;5;241m=\u001b[39m\u001b[38;5;28mdict\u001b[39m(line\u001b[38;5;241m=\u001b[39m\u001b[38;5;28mdict\u001b[39m(width\u001b[38;5;241m=\u001b[39m\u001b[38;5;241m1\u001b[39m, color\u001b[38;5;241m=\u001b[39m\u001b[38;5;124m'\u001b[39m\u001b[38;5;124mblack\u001b[39m\u001b[38;5;124m'\u001b[39m)),\n\u001b[0;32m     15\u001b[0m     selector\u001b[38;5;241m=\u001b[39m\u001b[38;5;28mdict\u001b[39m(\u001b[38;5;28mtype\u001b[39m\u001b[38;5;241m=\u001b[39m\u001b[38;5;124m'\u001b[39m\u001b[38;5;124mbar\u001b[39m\u001b[38;5;124m'\u001b[39m),\n\u001b[0;32m     16\u001b[0m )\n\u001b[0;32m     18\u001b[0m fig4\u001b[38;5;241m.\u001b[39mupdate_layout(\n\u001b[0;32m     19\u001b[0m     xaxis_title\u001b[38;5;241m=\u001b[39m\u001b[38;5;124m\"\u001b[39m\u001b[38;5;124m<b>Player\u001b[39m\u001b[38;5;124m'\u001b[39m\u001b[38;5;124ms Type</b>\u001b[39m\u001b[38;5;124m\"\u001b[39m,\n\u001b[0;32m     20\u001b[0m     yaxis_title\u001b[38;5;241m=\u001b[39m\u001b[38;5;124m'\u001b[39m\u001b[38;5;124m<b>Count of Unsold Players</b>\u001b[39m\u001b[38;5;124m'\u001b[39m,\n\u001b[1;32m   (...)\u001b[0m\n\u001b[0;32m     27\u001b[0m     margin\u001b[38;5;241m=\u001b[39m\u001b[38;5;28mdict\u001b[39m(l\u001b[38;5;241m=\u001b[39m\u001b[38;5;241m40\u001b[39m, r\u001b[38;5;241m=\u001b[39m\u001b[38;5;241m40\u001b[39m, t\u001b[38;5;241m=\u001b[39m\u001b[38;5;241m80\u001b[39m, b\u001b[38;5;241m=\u001b[39m\u001b[38;5;241m40\u001b[39m),\n\u001b[0;32m     28\u001b[0m )\n",
      "\u001b[1;31mNameError\u001b[0m: name 'px' is not defined"
     ]
    }
   ],
   "source": [
    "\n",
    "\n",
    "\n",
    "fig4 = px.bar(\n",
    "    x=unsold_count_type.index,\n",
    "    y=unsold_count_type.values,\n",
    "    labels={\n",
    "        'x': 'Type', \n",
    "        'y': 'Number of Unsold Players',\n",
    "    },\n",
    "    color=unsold_count_type.index, \n",
    "    color_discrete_sequence=px.colors.qualitative.Dark24, \n",
    "    title='<b>Unsold Players by Type</b><br><sup>Distribution of players who did not find a team</sup>', # Enhanced title with subtitle\n",
    ")\n",
    "\n",
    "fig4.update_traces(\n",
    "    marker=dict(line=dict(width=1, color='black')),\n",
    "    selector=dict(type='bar'),\n",
    ")\n",
    "\n",
    "fig4.update_layout(\n",
    "    xaxis_title=\"<b>Player's Type</b>\",\n",
    "    yaxis_title='<b>Count of Unsold Players</b>',\n",
    "    bargap=0.2,\n",
    "    plot_bgcolor='white',  \n",
    "    paper_bgcolor='white',\n",
    "    title_x=0.5,\n",
    "    font=dict(family=\"Segoe UI, sans-serif\", size=12, color=\"DarkSlateGray\"), # Custom font style\n",
    "    hovermode='x unified',\n",
    "    margin=dict(l=40, r=40, t=80, b=40),\n",
    ")\n",
    "\n",
    "fig4.show(renderer='iframe_connected')"
   ]
  },
  {
   "cell_type": "markdown",
   "id": "2ae70a63-645c-4923-b2f5-41336c128de7",
   "metadata": {},
   "source": [
    "# Sold Price By Team"
   ]
  },
  {
   "cell_type": "code",
   "execution_count": 66,
   "id": "fef79ba8-2599-414e-bb73-33ca3488c4e1",
   "metadata": {},
   "outputs": [
    {
     "data": {
      "text/html": [
       "<iframe\n",
       "    scrolling=\"no\"\n",
       "    width=\"100%\"\n",
       "    height=\"545px\"\n",
       "    src=\"iframe_figures/figure_66.html\"\n",
       "    frameborder=\"0\"\n",
       "    allowfullscreen\n",
       "></iframe>\n"
      ]
     },
     "metadata": {},
     "output_type": "display_data"
    }
   ],
   "source": [
    "fig5 = px.box(\n",
    "    dataSet,\n",
    "    x = 'Team',\n",
    "    y = 'Sold',\n",
    "    title = '<b>Sold Price by Team</b>',\n",
    "    labels={\n",
    "        'x' : 'Team Name',\n",
    "        'y' : 'Sold Player Count',\n",
    "    }\n",
    ")\n",
    "\n",
    "fig5.update_traces(\n",
    "    marker = dict(line= dict(color = 'black', width = 1)),\n",
    "    selector= dict(type = 'bar'),\n",
    ")\n",
    "\n",
    "fig5.update_layout(\n",
    "    xaxis_title='Team Names',\n",
    "    yaxis_title='Sold Price',\n",
    "    bargap = 0.2,\n",
    "    plot_bgcolor = 'white',\n",
    "    paper_bgcolor = 'white',\n",
    "    title_x = 0.5,\n",
    "    hovermode = 'x unified',\n",
    "    xaxis_tickangle = -45,\n",
    ")\n",
    "\n",
    "fig5.show(renderer='iframe_connected')\n"
   ]
  },
  {
   "cell_type": "markdown",
   "id": "153bde47-1e48-4a90-a17d-c6ba0fe65a71",
   "metadata": {},
   "source": [
    "# Average Sold Price by Player Type"
   ]
  },
  {
   "cell_type": "code",
   "execution_count": 68,
   "id": "22f94e8a-2ad2-473d-a756-fa5875a25c52",
   "metadata": {},
   "outputs": [
    {
     "name": "stdout",
     "output_type": "stream",
     "text": [
      "Average Sold Price by Player Type:\n",
      " Type\n",
      "BAT     2.251047\n",
      "BOWL    1.839352\n",
      "AR      1.650465\n",
      "WK      0.000000\n",
      "Name: Sold, dtype: float64\n"
     ]
    }
   ],
   "source": [
    "avg_sold_type = dataSet.groupby('Type')['Sold'].mean().sort_values(ascending = False)\n",
    "print(f\"Average Sold Price by Player Type:\\n {avg_sold_type}\")"
   ]
  },
  {
   "cell_type": "code",
   "execution_count": 74,
   "id": "35157cd8-1642-41ff-ba4c-f130eb86b1e5",
   "metadata": {},
   "outputs": [
    {
     "data": {
      "text/html": [
       "<iframe\n",
       "    scrolling=\"no\"\n",
       "    width=\"100%\"\n",
       "    height=\"545px\"\n",
       "    src=\"iframe_figures/figure_74.html\"\n",
       "    frameborder=\"0\"\n",
       "    allowfullscreen\n",
       "></iframe>\n"
      ]
     },
     "metadata": {},
     "output_type": "display_data"
    }
   ],
   "source": [
    "fig6 = px.bar(\n",
    "    x = avg_sold_type.index,\n",
    "    y = avg_sold_type.values,\n",
    "    title=\"<b>Average Sold Price by Player Type</b>\", \n",
    "    labels={'x': 'Player Type',\n",
    "            'y': 'Average Sold Price (in Crores)'\n",
    "           }, \n",
    "    color=avg_sold_type.values, color_continuous_scale='Blues'\n",
    ")\n",
    "\n",
    "fig6.update_traces(\n",
    "    marker = dict(line = dict(width = 0.1, color = 'black')),\n",
    "    selector= dict(type ='bar'),\n",
    ")\n",
    "fig6.update_layout(\n",
    "    xaxis_title=\"Player Type\",\n",
    "    yaxis_title=\"Average Sold Price (in Crores)\",\n",
    "    hovermode = 'x unified',\n",
    "    bargap = 0.2,\n",
    "     title_x=0.5,\n",
    "    font=dict(family=\"Segoe UI, sans-serif\", size=12, color=\"DarkSlateGray\"),\n",
    "    margin=dict(l=40, r=40, t=80, b=40),\n",
    ")\n",
    "fig6.show(renderer='iframe_connected')\n",
    "    "
   ]
  },
  {
   "cell_type": "markdown",
   "id": "b719659f-112f-4661-9e18-8c727f039b7c",
   "metadata": {},
   "source": [
    "# Total Amount Spending By Each Team"
   ]
  },
  {
   "cell_type": "code",
   "execution_count": 77,
   "id": "6a15386f-601c-4c8c-84d1-aae12a09742e",
   "metadata": {},
   "outputs": [
    {
     "name": "stdout",
     "output_type": "stream",
     "text": [
      "Toatal Amount Spend By each Team Team\n",
      "CSK     119.95\n",
      "GT      119.85\n",
      "MI      119.80\n",
      "SRH     119.80\n",
      "RR      119.70\n",
      "PBKS    119.65\n",
      "LSG     119.60\n",
      "RCB     119.25\n",
      "DC      116.55\n",
      "KKR     107.95\n",
      "-         0.00\n",
      "Name: Sold, dtype: float64\n"
     ]
    }
   ],
   "source": [
    "total_Spendable_amount = dataSet.groupby('Team')['Sold'].sum().sort_values(ascending = False)\n",
    "print(f'Toatal Amount Spend By each Team {total_Spendable_amount}')"
   ]
  },
  {
   "cell_type": "markdown",
   "id": "9ff3cc69-13a9-4159-b887-7eb5f3f47cc3",
   "metadata": {},
   "source": [
    "# Sold vs Unsold Players by Type"
   ]
  },
  {
   "cell_type": "code",
   "execution_count": 79,
   "id": "3fc8ea60-b92d-4822-b4ac-97e855099a32",
   "metadata": {},
   "outputs": [
    {
     "data": {
      "text/html": [
       "<iframe\n",
       "    scrolling=\"no\"\n",
       "    width=\"100%\"\n",
       "    height=\"545px\"\n",
       "    src=\"iframe_figures/figure_79.html\"\n",
       "    frameborder=\"0\"\n",
       "    allowfullscreen\n",
       "></iframe>\n"
      ]
     },
     "metadata": {},
     "output_type": "display_data"
    }
   ],
   "source": [
    "dataSet['Sold_Status'] = dataSet['Sold'].apply(\n",
    "    lambda x : 'Sold' if x not in [0, np.nan] else 'Unsold' )\n",
    "\n",
    "fig8 = px.histogram(\n",
    "    dataSet,\n",
    "    x = 'Type',\n",
    "    color = 'Sold_Status',\n",
    "    title='Count of Sold vs Unsold Players by Type', \n",
    "    labels={'Type': 'Player Type', 'Sold_Status': 'Sold Status'},\n",
    "    barmode='group',\n",
    ")\n",
    "\n",
    "fig8.update_layout(\n",
    "    xaxis_title=\"Player Type\",\n",
    "    yaxis_title=\"Count\",\n",
    "    hovermode = 'x unified',\n",
    "    bargap = 0.2,\n",
    "    title_x=0.5,\n",
    "    font=dict(family=\"Segoe UI, sans-serif\", size=12, color=\"DarkSlateGray\"),\n",
    "    margin=dict(l=40, r=40, t=80, b=40),\n",
    ")\n",
    "fig8.show(renderer='iframe_connected')"
   ]
  },
  {
   "cell_type": "code",
   "execution_count": 80,
   "id": "0e6c446a-e9fb-411b-b41b-57db5dab99b0",
   "metadata": {},
   "outputs": [
    {
     "data": {
      "text/html": [
       "<div>\n",
       "<style scoped>\n",
       "    .dataframe tbody tr th:only-of-type {\n",
       "        vertical-align: middle;\n",
       "    }\n",
       "\n",
       "    .dataframe tbody tr th {\n",
       "        vertical-align: top;\n",
       "    }\n",
       "\n",
       "    .dataframe thead th {\n",
       "        text-align: right;\n",
       "    }\n",
       "</style>\n",
       "<table border=\"1\" class=\"dataframe\">\n",
       "  <thead>\n",
       "    <tr style=\"text-align: right;\">\n",
       "      <th></th>\n",
       "      <th>Players</th>\n",
       "      <th>Team</th>\n",
       "      <th>Type</th>\n",
       "      <th>Base</th>\n",
       "      <th>Sold</th>\n",
       "      <th>Sold_Status</th>\n",
       "    </tr>\n",
       "  </thead>\n",
       "  <tbody>\n",
       "    <tr>\n",
       "      <th>0</th>\n",
       "      <td>Virat Kohli</td>\n",
       "      <td>RCB</td>\n",
       "      <td>BAT</td>\n",
       "      <td>0.0</td>\n",
       "      <td>21.00</td>\n",
       "      <td>Sold</td>\n",
       "    </tr>\n",
       "    <tr>\n",
       "      <th>1</th>\n",
       "      <td>Rajat Patidar</td>\n",
       "      <td>RCB</td>\n",
       "      <td>BAT</td>\n",
       "      <td>0.0</td>\n",
       "      <td>11.00</td>\n",
       "      <td>Sold</td>\n",
       "    </tr>\n",
       "    <tr>\n",
       "      <th>2</th>\n",
       "      <td>Yash Dayal</td>\n",
       "      <td>RCB</td>\n",
       "      <td>BOWL</td>\n",
       "      <td>0.0</td>\n",
       "      <td>5.00</td>\n",
       "      <td>Sold</td>\n",
       "    </tr>\n",
       "    <tr>\n",
       "      <th>3</th>\n",
       "      <td>Jasprit Bumrah</td>\n",
       "      <td>MI</td>\n",
       "      <td>BOWL</td>\n",
       "      <td>0.0</td>\n",
       "      <td>18.00</td>\n",
       "      <td>Sold</td>\n",
       "    </tr>\n",
       "    <tr>\n",
       "      <th>4</th>\n",
       "      <td>Suryakumar Yadav</td>\n",
       "      <td>MI</td>\n",
       "      <td>BAT</td>\n",
       "      <td>0.0</td>\n",
       "      <td>16.35</td>\n",
       "      <td>Sold</td>\n",
       "    </tr>\n",
       "    <tr>\n",
       "      <th>...</th>\n",
       "      <td>...</td>\n",
       "      <td>...</td>\n",
       "      <td>...</td>\n",
       "      <td>...</td>\n",
       "      <td>...</td>\n",
       "      <td>...</td>\n",
       "    </tr>\n",
       "    <tr>\n",
       "      <th>573</th>\n",
       "      <td>Eshan Malinga</td>\n",
       "      <td>SRH</td>\n",
       "      <td>BOWL</td>\n",
       "      <td>0.3</td>\n",
       "      <td>1.20</td>\n",
       "      <td>Sold</td>\n",
       "    </tr>\n",
       "    <tr>\n",
       "      <th>601</th>\n",
       "      <td>Tripurana Vijay</td>\n",
       "      <td>DC</td>\n",
       "      <td>AR</td>\n",
       "      <td>0.3</td>\n",
       "      <td>0.30</td>\n",
       "      <td>Sold</td>\n",
       "    </tr>\n",
       "    <tr>\n",
       "      <th>609</th>\n",
       "      <td>Madhav Tiwari</td>\n",
       "      <td>DC</td>\n",
       "      <td>AR</td>\n",
       "      <td>0.3</td>\n",
       "      <td>0.40</td>\n",
       "      <td>Sold</td>\n",
       "    </tr>\n",
       "    <tr>\n",
       "      <th>616</th>\n",
       "      <td>Vignesh Puthur</td>\n",
       "      <td>MI</td>\n",
       "      <td>AR</td>\n",
       "      <td>0.3</td>\n",
       "      <td>0.30</td>\n",
       "      <td>Sold</td>\n",
       "    </tr>\n",
       "    <tr>\n",
       "      <th>619</th>\n",
       "      <td>Jofra Archer</td>\n",
       "      <td>RR</td>\n",
       "      <td>BOWL</td>\n",
       "      <td>2.0</td>\n",
       "      <td>12.50</td>\n",
       "      <td>Sold</td>\n",
       "    </tr>\n",
       "  </tbody>\n",
       "</table>\n",
       "<p>227 rows × 6 columns</p>\n",
       "</div>"
      ],
      "text/plain": [
       "              Players Team  Type  Base   Sold Sold_Status\n",
       "0         Virat Kohli  RCB   BAT   0.0  21.00        Sold\n",
       "1       Rajat Patidar  RCB   BAT   0.0  11.00        Sold\n",
       "2          Yash Dayal  RCB  BOWL   0.0   5.00        Sold\n",
       "3      Jasprit Bumrah   MI  BOWL   0.0  18.00        Sold\n",
       "4    Suryakumar Yadav   MI   BAT   0.0  16.35        Sold\n",
       "..                ...  ...   ...   ...    ...         ...\n",
       "573     Eshan Malinga  SRH  BOWL   0.3   1.20        Sold\n",
       "601   Tripurana Vijay   DC    AR   0.3   0.30        Sold\n",
       "609     Madhav Tiwari   DC    AR   0.3   0.40        Sold\n",
       "616    Vignesh Puthur   MI    AR   0.3   0.30        Sold\n",
       "619      Jofra Archer   RR  BOWL   2.0  12.50        Sold\n",
       "\n",
       "[227 rows x 6 columns]"
      ]
     },
     "execution_count": 80,
     "metadata": {},
     "output_type": "execute_result"
    }
   ],
   "source": [
    "new_dataSet = dataSet[dataSet['Sold'] > 0]\n",
    "new_dataSet"
   ]
  },
  {
   "cell_type": "code",
   "execution_count": null,
   "id": "c5279a52-330f-4be9-b516-2a3f695c64b1",
   "metadata": {},
   "outputs": [],
   "source": []
  },
  {
   "cell_type": "code",
   "execution_count": 84,
   "id": "87230c3c-98a2-4a94-a4eb-a4b8ade51daf",
   "metadata": {},
   "outputs": [
    {
     "data": {
      "text/html": [
       "<iframe\n",
       "    scrolling=\"no\"\n",
       "    width=\"100%\"\n",
       "    height=\"545px\"\n",
       "    src=\"iframe_figures/figure_84.html\"\n",
       "    frameborder=\"0\"\n",
       "    allowfullscreen\n",
       "></iframe>\n"
      ]
     },
     "metadata": {},
     "output_type": "display_data"
    }
   ],
   "source": [
    "fig8 = px.histogram(\n",
    "    new_dataSet, x='Team',\n",
    "    color='Type', \n",
    "    title='<b>Player Type Composition by Team</b>', \n",
    "    labels={'Team': 'Team', 'Type': 'Player Type'},\n",
    "    barmode='stack'\n",
    ")\n",
    "\n",
    "fig8.update_traces(\n",
    "    marker = dict(line = dict(color = 'yellow', width = 1)),\n",
    "    selector= dict(type = 'bar'),\n",
    ")\n",
    "\n",
    "fig8.update_layout(\n",
    "    xaxis_title='Team',\n",
    "    yaxis_title='Count of Players',\n",
    "    xaxis_tickangle=-45,\n",
    "    hovermode = 'x unified',\n",
    "    bargap = 0.2,\n",
    "    title_x = 0.5,\n",
    ")\n",
    "fig8.show(renderer='iframe_connected')"
   ]
  },
  {
   "cell_type": "code",
   "execution_count": null,
   "id": "463b1f9b-aad3-44a8-bca0-ee1c2a7e4414",
   "metadata": {},
   "outputs": [],
   "source": []
  }
 ],
 "metadata": {
  "kernelspec": {
   "display_name": "Python 3 (ipykernel)",
   "language": "python",
   "name": "python3"
  },
  "language_info": {
   "codemirror_mode": {
    "name": "ipython",
    "version": 3
   },
   "file_extension": ".py",
   "mimetype": "text/x-python",
   "name": "python",
   "nbconvert_exporter": "python",
   "pygments_lexer": "ipython3",
   "version": "3.13.3"
  }
 },
 "nbformat": 4,
 "nbformat_minor": 5
}
